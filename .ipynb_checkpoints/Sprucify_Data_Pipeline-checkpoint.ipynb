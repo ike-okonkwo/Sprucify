{
 "metadata": {
  "name": "",
  "signature": "sha256:ad6389ab1008220f3fe33bb5c13257ab44473612a1e1213c0527923959798e87"
 },
 "nbformat": 3,
 "nbformat_minor": 0,
 "worksheets": [
  {
   "cells": [
    {
     "cell_type": "code",
     "collapsed": false,
     "input": [
      "import rauth\n",
      "import yelpapi\n",
      "import json\n",
      "import time\n",
      "\n",
      "\n",
      "\n",
      "def get_search_parameters(city):\n",
      "  #See the Yelp API for more details\n",
      "  params = {}\n",
      "  params[\"term\"] = \"Barber Shop\"\n",
      "  params[\"category_filter\"] = \"menshair\"\n",
      "  params[\"location\"] = \"{}\".format(str(city))\n",
      "#   params[\"ll\"] = \"{},{}\".format(str(lat),str(long))\n",
      "#   params[\"radius_filter\"] = \"2000\"\n",
      "  params[\"limit\"] = \"20\"\n",
      "  print 'got data'\n",
      " "
     ],
     "language": "python",
     "metadata": {},
     "outputs": [],
     "prompt_number": 6
    },
    {
     "cell_type": "code",
     "collapsed": false,
     "input": [
      "def get_search_parameters(lat,long):\n",
      "  #See the Yelp API for more details\n",
      "  params = {}\n",
      "  params[\"term\"] = \"Barber Shop\"\n",
      "  params[\"category_filter\"] = \"menshair\"\n",
      "#   params[\"location\"] = \"{}\".format(str(city))\n",
      "  params[\"ll\"] = \"{},{}\".format(str(lat),str(long))\n",
      "#   params[\"radius_filter\"] = \"2000\"\n",
      "  params[\"limit\"] = \"10\"\n",
      "  print 'got data' \n",
      "  print params\n",
      "  return params\n",
      "\n",
      "\n",
      "\n",
      "def get_results(params):\n",
      " \n",
      "  #Obtain these from Yelp's manage access page\n",
      "  consumer_key = \"iFsB13btoGj0p0a4a6aeQw\"\n",
      "  consumer_secret = \"7RKLuP5f1oYuAsSv5CnueN8yDWM\"\n",
      "  token = \"FR_grxPA2B2x9uEkeh_7l-5ukrEpBoju\"\n",
      "  token_secret = \"LSeGYFIMk0jGVXJe8sZahEVYHi8\"\n",
      "\n",
      "   \n",
      "  session = rauth.OAuth1Session(\n",
      "    consumer_key = consumer_key\n",
      "    ,consumer_secret = consumer_secret\n",
      "    ,access_token = token\n",
      "    ,access_token_secret = token_secret)\n",
      "     \n",
      "  request = session.get(\"http://api.yelp.com/v2/search\",params=params)\n",
      "#   request = session.get(\"http://api.yelp.com/v2/business\",params=params)\n",
      "   \n",
      "  #Transforms the JSON API response into a Python dictionary\n",
      "  data = request.json()\n",
      "  session.close()\n",
      "  print 'got lots of data'\n",
      "\n",
      "  return data\n",
      "\n"
     ],
     "language": "python",
     "metadata": {},
     "outputs": [],
     "prompt_number": 46
    },
    {
     "cell_type": "code",
     "collapsed": false,
     "input": [
      "# def main():\n",
      "locations = [(39.98,-82.98),(42.24,-83.61),(41.33,-89.13)]\n",
      "# locations = ['San Mateo','San Carlos', 'San Francisco']\n",
      "api_calls = []\n",
      "for lat,long in locations:\n",
      "    params = get_search_parameters(lat,long)\n",
      "    api_calls.append(get_results(params))\n",
      "    #Be a good internet citizen and rate-limit yourself\n",
      "    time.sleep(1.0)\n",
      "\n",
      "print api_calls\n",
      "\n",
      "\n",
      "  ##Do other processing"
     ],
     "language": "python",
     "metadata": {},
     "outputs": [
      {
       "output_type": "stream",
       "stream": "stdout",
       "text": [
        "got data\n",
        "{'term': 'Barber Shop', 'll': '39.98,-82.98', 'limit': '10', 'category_filter': 'menshair'}\n",
        "got lots of data"
       ]
      },
      {
       "output_type": "stream",
       "stream": "stdout",
       "text": [
        "\n",
        "got data"
       ]
      },
      {
       "output_type": "stream",
       "stream": "stdout",
       "text": [
        "\n",
        "{'term': 'Barber Shop', 'll': '42.24,-83.61', 'limit': '10', 'category_filter': 'menshair'}\n",
        "got lots of data"
       ]
      },
      {
       "output_type": "stream",
       "stream": "stdout",
       "text": [
        "\n",
        "got data"
       ]
      },
      {
       "output_type": "stream",
       "stream": "stdout",
       "text": [
        "\n",
        "{'term': 'Barber Shop', 'll': '41.33,-89.13', 'limit': '10', 'category_filter': 'menshair'}\n",
        "got lots of data"
       ]
      },
      {
       "output_type": "stream",
       "stream": "stdout",
       "text": [
        "\n",
        "[{u'region': {u'span': {u'latitude_delta': 0.0, u'longitude_delta': 0.0}, u'center': {u'latitude': 39.98, u'longitude': -82.98}}, u'total': 0, u'businesses': []}, {u'region': {u'span': {u'latitude_delta': 0.0, u'longitude_delta': 0.0}, u'center': {u'latitude': 42.24, u'longitude': -83.61}}, u'total': 0, u'businesses': []}, {u'region': {u'span': {u'latitude_delta': 0.0009343400000005886, u'longitude_delta': 0.021145189999998593}, u'center': {u'latitude': 41.3295753, u'longitude': -89.12038855}}, u'total': 1, u'businesses': [{u'is_claimed': False, u'distance': 1607.8668105844774, u'mobile_url': u'http://m.yelp.com/biz/deangelos-hair-styling-peru', u'rating_img_url': u'http://s3-media2.fl.yelpcdn.com/assets/2/www/img/99493c12711e/ico/stars/v1/stars_4_half.png', u'review_count': 3, u'name': u\"Deangelo's Hair Styling\", u'rating': 4.5, u'url': u'http://www.yelp.com/biz/deangelos-hair-styling-peru', u'categories': [[u\"Men's Hair Salons\", u'menshair'], [u'Barbers', u'barbers'], [u'Hair Stylists', u'hairstylists']], u'is_closed': False, u'phone': u'8152235619', u'snippet_text': u'After over 12 years of cutting my hair on my own, I decided to venture out to obtain a true professional hair thrashing. Through a friend  I was referred to...', u'image_url': u'http://s3-media2.fl.yelpcdn.com/bphoto/7ZHShCMyeaZ8xd2Pg6OnsQ/ms.jpg', u'location': {u'city': u'Peru', u'display_address': [u'407 5th St', u'Peru, IL 61354'], u'postal_code': u'61354', u'country_code': u'US', u'address': [u'407 5th St'], u'state_code': u'IL'}, u'display_phone': u'+1-815-223-5619', u'rating_img_url_large': u'http://s3-media4.fl.yelpcdn.com/assets/2/www/img/9f83790ff7f6/ico/stars/v1/stars_large_4_half.png', u'id': u'deangelos-hair-styling-peru', u'snippet_image_url': u'http://s3-media1.fl.yelpcdn.com/photo/yPggzYmPghAYD_6dT-9JZA/ms.jpg', u'rating_img_url_small': u'http://s3-media2.fl.yelpcdn.com/assets/2/www/img/a5221e66bc70/ico/stars/v1/stars_small_4_half.png'}]}]"
       ]
      },
      {
       "output_type": "stream",
       "stream": "stdout",
       "text": [
        "\n"
       ]
      }
     ],
     "prompt_number": 47
    },
    {
     "cell_type": "code",
     "collapsed": false,
     "input": [
      "api_calls[0].keys()"
     ],
     "language": "python",
     "metadata": {},
     "outputs": [
      {
       "metadata": {},
       "output_type": "pyout",
       "prompt_number": 48,
       "text": [
        "[u'region', u'total', u'businesses']"
       ]
      }
     ],
     "prompt_number": 48
    },
    {
     "cell_type": "code",
     "collapsed": false,
     "input": [
      "api_calls[0].values()"
     ],
     "language": "python",
     "metadata": {},
     "outputs": [
      {
       "metadata": {},
       "output_type": "pyout",
       "prompt_number": 49,
       "text": [
        "[{u'center': {u'latitude': 39.98, u'longitude': -82.98},\n",
        "  u'span': {u'latitude_delta': 0.0, u'longitude_delta': 0.0}},\n",
        " 0,\n",
        " []]"
       ]
      }
     ],
     "prompt_number": 49
    },
    {
     "cell_type": "code",
     "collapsed": false,
     "input": [
      "api_calls[0]['region']"
     ],
     "language": "python",
     "metadata": {},
     "outputs": [
      {
       "metadata": {},
       "output_type": "pyout",
       "prompt_number": 50,
       "text": [
        "{u'center': {u'latitude': 39.98, u'longitude': -82.98},\n",
        " u'span': {u'latitude_delta': 0.0, u'longitude_delta': 0.0}}"
       ]
      }
     ],
     "prompt_number": 50
    },
    {
     "cell_type": "code",
     "collapsed": false,
     "input": [
      "api_calls[0]['total']"
     ],
     "language": "python",
     "metadata": {},
     "outputs": [
      {
       "metadata": {},
       "output_type": "pyout",
       "prompt_number": 51,
       "text": [
        "0"
       ]
      }
     ],
     "prompt_number": 51
    },
    {
     "cell_type": "code",
     "collapsed": false,
     "input": [
      "api_calls[0]['businesses']"
     ],
     "language": "python",
     "metadata": {},
     "outputs": [
      {
       "metadata": {},
       "output_type": "pyout",
       "prompt_number": 52,
       "text": [
        "[]"
       ]
      }
     ],
     "prompt_number": 52
    },
    {
     "cell_type": "code",
     "collapsed": false,
     "input": [],
     "language": "python",
     "metadata": {},
     "outputs": [],
     "prompt_number": 52
    },
    {
     "cell_type": "code",
     "collapsed": false,
     "input": [],
     "language": "python",
     "metadata": {},
     "outputs": []
    }
   ],
   "metadata": {}
  }
 ]
}